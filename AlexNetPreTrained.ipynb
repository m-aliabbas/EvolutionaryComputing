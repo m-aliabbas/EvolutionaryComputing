{
  "nbformat": 4,
  "nbformat_minor": 0,
  "metadata": {
    "colab": {
      "name": "AlexNetPreTrained",
      "version": "0.3.2",
      "provenance": [],
      "collapsed_sections": [],
      "include_colab_link": true
    },
    "kernelspec": {
      "name": "python3",
      "display_name": "Python 3"
    },
    "accelerator": "GPU"
  },
  "cells": [
    {
      "cell_type": "markdown",
      "metadata": {
        "id": "view-in-github",
        "colab_type": "text"
      },
      "source": [
        "<a href=\"https://colab.research.google.com/github/m-aliabbas/EvolutionaryComputing/blob/master/AlexNetPreTrained.ipynb\" target=\"_parent\"><img src=\"https://colab.research.google.com/assets/colab-badge.svg\" alt=\"Open In Colab\"/></a>"
      ]
    },
    {
      "cell_type": "code",
      "metadata": {
        "id": "gBB3Ll-njzgm",
        "colab_type": "code",
        "outputId": "6d928173-3ea0-4fa4-f096-51cbe761db6a",
        "colab": {
          "base_uri": "https://localhost:8080/",
          "height": 34
        }
      },
      "source": [
        "# Load the Drive helper and mount\n",
        "from google.colab import drive\n",
        "\n",
        "# This will prompt for authorization.\n",
        "drive.mount('/content/drive')"
      ],
      "execution_count": 4,
      "outputs": [
        {
          "output_type": "stream",
          "text": [
            "Drive already mounted at /content/drive; to attempt to forcibly remount, call drive.mount(\"/content/drive\", force_remount=True).\n"
          ],
          "name": "stdout"
        }
      ]
    },
    {
      "cell_type": "code",
      "metadata": {
        "id": "MruWNMl5kcTj",
        "colab_type": "code",
        "colab": {}
      },
      "source": [
        "import fastai\n",
        "from fastai.vision import *\n",
        "import os\n",
        "import matplotlib.pyplot as plt\n",
        "import matplotlib.image as mpimg"
      ],
      "execution_count": 0,
      "outputs": []
    },
    {
      "cell_type": "code",
      "metadata": {
        "id": "VRU9HPbYkmqM",
        "colab_type": "code",
        "colab": {}
      },
      "source": [
        "from zipfile import ZipFile \n",
        "def unZip(file_name):\n",
        "  with ZipFile(file_name, 'r') as zip: \n",
        "      zip.extractall() \n",
        "      print('Done!') "
      ],
      "execution_count": 0,
      "outputs": []
    },
    {
      "cell_type": "code",
      "metadata": {
        "id": "5ce7pByhPGce",
        "colab_type": "code",
        "colab": {}
      },
      "source": [
        "!rm -rf chest_xray\n",
        "!rm -rf dataset1"
      ],
      "execution_count": 0,
      "outputs": []
    },
    {
      "cell_type": "code",
      "metadata": {
        "id": "-vBi93P3koL8",
        "colab_type": "code",
        "colab": {}
      },
      "source": [
        "file_name = '/content/drive/chestXRay.zip'"
      ],
      "execution_count": 0,
      "outputs": []
    },
    {
      "cell_type": "code",
      "metadata": {
        "id": "AD77rju9kpWJ",
        "colab_type": "code",
        "colab": {}
      },
      "source": [
        "path=\"/content/drive/My Drive/\"\n",
        "file_name=path+'chestXRay.zip'"
      ],
      "execution_count": 0,
      "outputs": []
    },
    {
      "cell_type": "code",
      "metadata": {
        "id": "JgaJJIBrks8H",
        "colab_type": "code",
        "outputId": "8b83544c-8235-4f91-d6ac-7774700e5cf4",
        "colab": {
          "base_uri": "https://localhost:8080/",
          "height": 34
        }
      },
      "source": [
        "unZip(file_name)"
      ],
      "execution_count": 10,
      "outputs": [
        {
          "output_type": "stream",
          "text": [
            "Done!\n"
          ],
          "name": "stdout"
        }
      ]
    },
    {
      "cell_type": "code",
      "metadata": {
        "id": "N9xrHB2fkudz",
        "colab_type": "code",
        "outputId": "9a4239d5-cd59-4157-ead9-67ac2d922c33",
        "colab": {
          "base_uri": "https://localhost:8080/",
          "height": 34
        }
      },
      "source": [
        "!ls chest_xray"
      ],
      "execution_count": 11,
      "outputs": [
        {
          "output_type": "stream",
          "text": [
            "ls: cannot access 'chest_xray': No such file or directory\n"
          ],
          "name": "stdout"
        }
      ]
    },
    {
      "cell_type": "code",
      "metadata": {
        "id": "2eDHntzblbVu",
        "colab_type": "code",
        "outputId": "d3b60f7b-a5ca-4925-8165-22664304fe2d",
        "colab": {
          "base_uri": "https://localhost:8080/",
          "height": 34
        }
      },
      "source": [
        "!ls"
      ],
      "execution_count": 12,
      "outputs": [
        {
          "output_type": "stream",
          "text": [
            "chest_xray.zip\tdrive  __MACOSX  sample_data\n"
          ],
          "name": "stdout"
        }
      ]
    },
    {
      "cell_type": "code",
      "metadata": {
        "id": "p-Eu3yZzlc2q",
        "colab_type": "code",
        "outputId": "755c96e1-90cc-4f23-e30c-d2cdb70cc6bd",
        "colab": {
          "base_uri": "https://localhost:8080/",
          "height": 34
        }
      },
      "source": [
        "unZip('chest_xray.zip')"
      ],
      "execution_count": 13,
      "outputs": [
        {
          "output_type": "stream",
          "text": [
            "Done!\n"
          ],
          "name": "stdout"
        }
      ]
    },
    {
      "cell_type": "code",
      "metadata": {
        "id": "Gjm5P0h-lhra",
        "colab_type": "code",
        "outputId": "f3c90a50-ed96-48bf-f4fb-bd407b66347a",
        "colab": {
          "base_uri": "https://localhost:8080/",
          "height": 34
        }
      },
      "source": [
        "!ls chest_xray"
      ],
      "execution_count": 14,
      "outputs": [
        {
          "output_type": "stream",
          "text": [
            "test  train  val\n"
          ],
          "name": "stdout"
        }
      ]
    },
    {
      "cell_type": "code",
      "metadata": {
        "id": "VA1uq7KUl5TN",
        "colab_type": "code",
        "colab": {}
      },
      "source": [
        "import glob\n",
        "import cv2\n",
        "import numpy as np\n",
        "%matplotlib inline\n",
        "filesPos= sorted(glob.glob('chest_xray/train/NORMAL/*.jpeg'))\n",
        "filesNeg=sorted(glob.glob('chest_xray/train/PNEUMONIA/*.jpeg'))"
      ],
      "execution_count": 0,
      "outputs": []
    },
    {
      "cell_type": "code",
      "metadata": {
        "id": "G9emPBEYmCov",
        "colab_type": "code",
        "outputId": "f75624e2-79c6-46e4-cfd6-4cbfee49076a",
        "colab": {
          "base_uri": "https://localhost:8080/",
          "height": 34
        }
      },
      "source": [
        "print(len(filesPos),len(filesNeg))"
      ],
      "execution_count": 16,
      "outputs": [
        {
          "output_type": "stream",
          "text": [
            "1341 3875\n"
          ],
          "name": "stdout"
        }
      ]
    },
    {
      "cell_type": "code",
      "metadata": {
        "id": "6lAhEsxGmEbW",
        "colab_type": "code",
        "colab": {}
      },
      "source": [
        "from fastai import *\n",
        "import shutil\n",
        "def copyfiles(filesName,dest):\n",
        "  c=0\n",
        "  for file in filesName:\n",
        "    shutil.copy(file, dest)\n",
        "    c+=1\n",
        "  print(\"Copied \"+str(c))"
      ],
      "execution_count": 0,
      "outputs": []
    },
    {
      "cell_type": "code",
      "metadata": {
        "id": "rcOIZ4GfmNcg",
        "colab_type": "code",
        "colab": {}
      },
      "source": [
        "!mkdir dataset1"
      ],
      "execution_count": 0,
      "outputs": []
    },
    {
      "cell_type": "code",
      "metadata": {
        "id": "Z7fjTJp34uMl",
        "colab_type": "code",
        "colab": {}
      },
      "source": [
        "!mkdir dataset1/train"
      ],
      "execution_count": 0,
      "outputs": []
    },
    {
      "cell_type": "code",
      "metadata": {
        "id": "mRULkoAu4_FI",
        "colab_type": "code",
        "outputId": "0ee1ef31-632f-4652-c114-1ef6c8a822e7",
        "colab": {
          "base_uri": "https://localhost:8080/",
          "height": 34
        }
      },
      "source": [
        "!ls dataset1"
      ],
      "execution_count": 20,
      "outputs": [
        {
          "output_type": "stream",
          "text": [
            "train\n"
          ],
          "name": "stdout"
        }
      ]
    },
    {
      "cell_type": "code",
      "metadata": {
        "id": "SJqJvZDj4y8H",
        "colab_type": "code",
        "colab": {}
      },
      "source": [
        "!mkdir dataset1/train/PNEUMONIA\n",
        "!mkdir dataset1/train/NORMAL"
      ],
      "execution_count": 0,
      "outputs": []
    },
    {
      "cell_type": "code",
      "metadata": {
        "id": "fBU9J0NFmPaN",
        "colab_type": "code",
        "outputId": "f6797ba9-19f2-4d89-e395-de7926d5dd34",
        "colab": {
          "base_uri": "https://localhost:8080/",
          "height": 34
        }
      },
      "source": [
        "!ls dataset1/train/"
      ],
      "execution_count": 22,
      "outputs": [
        {
          "output_type": "stream",
          "text": [
            "NORMAL\tPNEUMONIA\n"
          ],
          "name": "stdout"
        }
      ]
    },
    {
      "cell_type": "code",
      "metadata": {
        "id": "NGuWNiPosuPE",
        "colab_type": "code",
        "colab": {}
      },
      "source": [
        "filesNeg=filesNeg[:1340]"
      ],
      "execution_count": 0,
      "outputs": []
    },
    {
      "cell_type": "code",
      "metadata": {
        "id": "UHu4RizZYPyK",
        "colab_type": "code",
        "colab": {}
      },
      "source": [
        ""
      ],
      "execution_count": 0,
      "outputs": []
    },
    {
      "cell_type": "code",
      "metadata": {
        "id": "4BUii-2WoiIU",
        "colab_type": "code",
        "colab": {}
      },
      "source": [
        "import random \n",
        "random.seed(3000)\n",
        "random.shuffle(filesNeg)\n",
        "random.shuffle(filesPos)"
      ],
      "execution_count": 0,
      "outputs": []
    },
    {
      "cell_type": "code",
      "metadata": {
        "id": "vIXci3av7XDu",
        "colab_type": "code",
        "outputId": "4712ce53-adea-43d8-b4f8-7bb5e15d8172",
        "colab": {
          "base_uri": "https://localhost:8080/",
          "height": 34
        }
      },
      "source": [
        "!ls chest_xray"
      ],
      "execution_count": 25,
      "outputs": [
        {
          "output_type": "stream",
          "text": [
            "test  train  val\n"
          ],
          "name": "stdout"
        }
      ]
    },
    {
      "cell_type": "code",
      "metadata": {
        "id": "elm_4HZCsJHg",
        "colab_type": "code",
        "outputId": "553dff96-c1d7-4740-8195-7e7a733b1558",
        "colab": {
          "base_uri": "https://localhost:8080/",
          "height": 34
        }
      },
      "source": [
        "copyfiles(filesPos,'dataset1/train/NORMAL')"
      ],
      "execution_count": 26,
      "outputs": [
        {
          "output_type": "stream",
          "text": [
            "Copied 1341\n"
          ],
          "name": "stdout"
        }
      ]
    },
    {
      "cell_type": "code",
      "metadata": {
        "id": "ljrkYc4x7Lzz",
        "colab_type": "code",
        "outputId": "b21b9a70-53b9-4f10-b73c-f9bb439c4968",
        "colab": {
          "base_uri": "https://localhost:8080/",
          "height": 34
        }
      },
      "source": [
        "copyfiles(filesNeg,'dataset1/train/PNEUMONIA')"
      ],
      "execution_count": 27,
      "outputs": [
        {
          "output_type": "stream",
          "text": [
            "Copied 1340\n"
          ],
          "name": "stdout"
        }
      ]
    },
    {
      "cell_type": "code",
      "metadata": {
        "id": "MkfLAQHu7YEb",
        "colab_type": "code",
        "colab": {}
      },
      "source": [
        "!mkdir dataset1/valid"
      ],
      "execution_count": 0,
      "outputs": []
    },
    {
      "cell_type": "code",
      "metadata": {
        "id": "w7D2OS6t7pKs",
        "colab_type": "code",
        "colab": {}
      },
      "source": [
        "!mkdir dataset1/test"
      ],
      "execution_count": 0,
      "outputs": []
    },
    {
      "cell_type": "code",
      "metadata": {
        "id": "0GJkGQ3g7tCB",
        "colab_type": "code",
        "colab": {}
      },
      "source": [
        "!cp -r chest_xray/val dataset1/"
      ],
      "execution_count": 0,
      "outputs": []
    },
    {
      "cell_type": "code",
      "metadata": {
        "id": "HX4vRhC48GTr",
        "colab_type": "code",
        "colab": {}
      },
      "source": [
        "!cp -r chest_xray/test dataset1/"
      ],
      "execution_count": 0,
      "outputs": []
    },
    {
      "cell_type": "code",
      "metadata": {
        "id": "fg54q0Ke8cTf",
        "colab_type": "code",
        "colab": {}
      },
      "source": [
        "!rm -rf dataset1/valid"
      ],
      "execution_count": 0,
      "outputs": []
    },
    {
      "cell_type": "code",
      "metadata": {
        "id": "gXqRlYPX8mpJ",
        "colab_type": "code",
        "colab": {}
      },
      "source": [
        "!mv dataset1/val dataset1/valid"
      ],
      "execution_count": 0,
      "outputs": []
    },
    {
      "cell_type": "code",
      "metadata": {
        "id": "mgtrgE6O-Pds",
        "colab_type": "code",
        "colab": {}
      },
      "source": [
        ""
      ],
      "execution_count": 0,
      "outputs": []
    },
    {
      "cell_type": "code",
      "metadata": {
        "id": "ukBQGPJSsZWO",
        "colab_type": "code",
        "colab": {}
      },
      "source": [
        "np.random.seed(1234)\n",
        "path='dataset1'\n",
        "data = ImageDataBunch.from_folder(path,\n",
        "        ds_tfms=get_transforms(do_flip=True,max_lighting=0.1),\n",
        "        seed=1234,\n",
        "        valid_pct=0.2,                          \n",
        "        size=224,\n",
        "        num_workers=8,\n",
        "        bs=32,\n",
        "        test=\"test\")\n"
      ],
      "execution_count": 0,
      "outputs": []
    },
    {
      "cell_type": "code",
      "metadata": {
        "id": "3dO7Oq3CTBt3",
        "colab_type": "code",
        "outputId": "f09b14f0-5a1e-466a-8d96-deefe2237990",
        "colab": {
          "base_uri": "https://localhost:8080/",
          "height": 391
        }
      },
      "source": [
        "data"
      ],
      "execution_count": 35,
      "outputs": [
        {
          "output_type": "execute_result",
          "data": {
            "text/plain": [
              "ImageDataBunch;\n",
              "\n",
              "Train: LabelList (2657 items)\n",
              "x: ImageList\n",
              "Image (3, 224, 224),Image (3, 224, 224),Image (3, 224, 224),Image (3, 224, 224),Image (3, 224, 224)\n",
              "y: CategoryList\n",
              "NORMAL,NORMAL,NORMAL,NORMAL,NORMAL\n",
              "Path: dataset1;\n",
              "\n",
              "Valid: LabelList (664 items)\n",
              "x: ImageList\n",
              "Image (3, 224, 224),Image (3, 224, 224),Image (3, 224, 224),Image (3, 224, 224),Image (3, 224, 224)\n",
              "y: CategoryList\n",
              "PNEUMONIA,PNEUMONIA,PNEUMONIA,NORMAL,NORMAL\n",
              "Path: dataset1;\n",
              "\n",
              "Test: LabelList (624 items)\n",
              "x: ImageList\n",
              "Image (3, 224, 224),Image (3, 224, 224),Image (3, 224, 224),Image (3, 224, 224),Image (3, 224, 224)\n",
              "y: EmptyLabelList\n",
              ",,,,\n",
              "Path: dataset1"
            ]
          },
          "metadata": {
            "tags": []
          },
          "execution_count": 35
        }
      ]
    },
    {
      "cell_type": "code",
      "metadata": {
        "id": "dYUszAmctZ2_",
        "colab_type": "code",
        "outputId": "e944e6be-33f0-4c8f-c8e0-78fa41c5c41f",
        "colab": {
          "base_uri": "https://localhost:8080/",
          "height": 34
        }
      },
      "source": [
        "data.classes"
      ],
      "execution_count": 36,
      "outputs": [
        {
          "output_type": "execute_result",
          "data": {
            "text/plain": [
              "['NORMAL', 'PNEUMONIA']"
            ]
          },
          "metadata": {
            "tags": []
          },
          "execution_count": 36
        }
      ]
    },
    {
      "cell_type": "code",
      "metadata": {
        "id": "UR7RePYIuTqo",
        "colab_type": "code",
        "outputId": "c241d182-e5f0-4e5d-c699-eff8946c580f",
        "colab": {
          "base_uri": "https://localhost:8080/",
          "height": 441
        }
      },
      "source": [
        "data.show_batch(rows=3, figsize=(10,6), hide_axis=False)"
      ],
      "execution_count": 37,
      "outputs": [
        {
          "output_type": "display_data",
          "data": {
            "image/png": "[encoded data removed]",
            "text/plain": [
              "<Figure size 720x432 with 9 Axes>"
            ]
          },
          "metadata": {
            "tags": []
          }
        }
      ]
    },
    {
      "cell_type": "code",
      "metadata": {
        "id": "5fm1PMQ3Wdzi",
        "colab_type": "code",
        "colab": {}
      },
      "source": [
        "from sklearn.metrics import roc_auc_score,f1_score\n",
        "def f1_score_a(y_pred,y_true,tens=True):\n",
        "#     score=roc_auc_score(y_true,torch.sigmoid(y_pred)[:,1])\n",
        "    f1a_score=f1_score(y_true, np.round(torch.sigmoid(y_pred)[:,1]), average='macro') \n",
        "    if tens:\n",
        "#         score=tensor(score)\n",
        "        f1a_score=tensor(f1a_score)\n",
        "    else:\n",
        "        f1a_score=f1a_score\n",
        "    return f1a_score\n",
        "# from sklearn.metrics import f1_score\n",
        "# def f1_out(y_ture,y_pred,tens=True):\n",
        "#     f1a_score=f1_score(y_true, torch.sigmoid(y_pred)[:,1], average='macro') \n",
        "#     if tens:\n",
        "#         f1a_score=tensor(f1a_score)\n",
        "#     else:\n",
        "#         f1a_score=f1a_score\n",
        "#     return f1a_score"
      ],
      "execution_count": 0,
      "outputs": []
    },
    {
      "cell_type": "code",
      "metadata": {
        "id": "L-0NDob8u2dV",
        "colab_type": "code",
        "outputId": "383ba823-0c6a-4967-aa3d-488a70fc646b",
        "colab": {
          "base_uri": "https://localhost:8080/",
          "height": 476
        }
      },
      "source": [
        "\n",
        "import torch \n",
        "import torchvision\n",
        "alexnet = torchvision.models.alexnet(pretrained=True)\n",
        "alexnet"
      ],
      "execution_count": 44,
      "outputs": [
        {
          "output_type": "execute_result",
          "data": {
            "text/plain": [
              "AlexNet(\n",
              "  (features): Sequential(\n",
              "    (0): Conv2d(3, 64, kernel_size=(11, 11), stride=(4, 4), padding=(2, 2))\n",
              "    (1): ReLU(inplace)\n",
              "    (2): MaxPool2d(kernel_size=3, stride=2, padding=0, dilation=1, ceil_mode=False)\n",
              "    (3): Conv2d(64, 192, kernel_size=(5, 5), stride=(1, 1), padding=(2, 2))\n",
              "    (4): ReLU(inplace)\n",
              "    (5): MaxPool2d(kernel_size=3, stride=2, padding=0, dilation=1, ceil_mode=False)\n",
              "    (6): Conv2d(192, 384, kernel_size=(3, 3), stride=(1, 1), padding=(1, 1))\n",
              "    (7): ReLU(inplace)\n",
              "    (8): Conv2d(384, 256, kernel_size=(3, 3), stride=(1, 1), padding=(1, 1))\n",
              "    (9): ReLU(inplace)\n",
              "    (10): Conv2d(256, 256, kernel_size=(3, 3), stride=(1, 1), padding=(1, 1))\n",
              "    (11): ReLU(inplace)\n",
              "    (12): MaxPool2d(kernel_size=3, stride=2, padding=0, dilation=1, ceil_mode=False)\n",
              "  )\n",
              "  (avgpool): AdaptiveAvgPool2d(output_size=(6, 6))\n",
              "  (classifier): Sequential(\n",
              "    (0): Dropout(p=0.5)\n",
              "    (1): Linear(in_features=9216, out_features=4096, bias=True)\n",
              "    (2): ReLU(inplace)\n",
              "    (3): Dropout(p=0.5)\n",
              "    (4): Linear(in_features=4096, out_features=4096, bias=True)\n",
              "    (5): ReLU(inplace)\n",
              "    (6): Linear(in_features=4096, out_features=1000, bias=True)\n",
              "  )\n",
              ")"
            ]
          },
          "metadata": {
            "tags": []
          },
          "execution_count": 44
        }
      ]
    },
    {
      "cell_type": "markdown",
      "metadata": {
        "id": "4Jye0gkA6Lbh",
        "colab_type": "text"
      },
      "source": [
        ""
      ]
    },
    {
      "cell_type": "code",
      "metadata": {
        "id": "0EKgGpOvMTgd",
        "colab_type": "code",
        "colab": {}
      },
      "source": [
        "alexnet=alexnet.cuda()"
      ],
      "execution_count": 0,
      "outputs": []
    },
    {
      "cell_type": "code",
      "metadata": {
        "id": "EBQIa6MtwLuM",
        "colab_type": "code",
        "colab": {}
      },
      "source": [
        "\n",
        "auc=[]\n",
        "loss=[]\n",
        "aucc=[]\n",
        "learn = Learner(data, alexnet, metrics=[error_rate, accuracy,f1_score_a])"
      ],
      "execution_count": 0,
      "outputs": []
    },
    {
      "cell_type": "code",
      "metadata": {
        "id": "M3NohgGf6V1u",
        "colab_type": "code",
        "outputId": "fcf739e6-339f-4167-b9bc-bae6a4431ae2",
        "colab": {
          "base_uri": "https://localhost:8080/",
          "height": 1000
        }
      },
      "source": [
        "learn"
      ],
      "execution_count": 48,
      "outputs": [
        {
          "output_type": "execute_result",
          "data": {
            "text/plain": [
              "Learner(data=ImageDataBunch;\n",
              "\n",
              "Train: LabelList (2657 items)\n",
              "x: ImageList\n",
              "Image (3, 224, 224),Image (3, 224, 224),Image (3, 224, 224),Image (3, 224, 224),Image (3, 224, 224)\n",
              "y: CategoryList\n",
              "NORMAL,NORMAL,NORMAL,NORMAL,NORMAL\n",
              "Path: dataset1;\n",
              "\n",
              "Valid: LabelList (664 items)\n",
              "x: ImageList\n",
              "Image (3, 224, 224),Image (3, 224, 224),Image (3, 224, 224),Image (3, 224, 224),Image (3, 224, 224)\n",
              "y: CategoryList\n",
              "PNEUMONIA,PNEUMONIA,PNEUMONIA,NORMAL,NORMAL\n",
              "Path: dataset1;\n",
              "\n",
              "Test: LabelList (624 items)\n",
              "x: ImageList\n",
              "Image (3, 224, 224),Image (3, 224, 224),Image (3, 224, 224),Image (3, 224, 224),Image (3, 224, 224)\n",
              "y: EmptyLabelList\n",
              ",,,,\n",
              "Path: dataset1, model=AlexNet(\n",
              "  (features): Sequential(\n",
              "    (0): Conv2d(3, 64, kernel_size=(11, 11), stride=(4, 4), padding=(2, 2))\n",
              "    (1): ReLU(inplace)\n",
              "    (2): MaxPool2d(kernel_size=3, stride=2, padding=0, dilation=1, ceil_mode=False)\n",
              "    (3): Conv2d(64, 192, kernel_size=(5, 5), stride=(1, 1), padding=(2, 2))\n",
              "    (4): ReLU(inplace)\n",
              "    (5): MaxPool2d(kernel_size=3, stride=2, padding=0, dilation=1, ceil_mode=False)\n",
              "    (6): Conv2d(192, 384, kernel_size=(3, 3), stride=(1, 1), padding=(1, 1))\n",
              "    (7): ReLU(inplace)\n",
              "    (8): Conv2d(384, 256, kernel_size=(3, 3), stride=(1, 1), padding=(1, 1))\n",
              "    (9): ReLU(inplace)\n",
              "    (10): Conv2d(256, 256, kernel_size=(3, 3), stride=(1, 1), padding=(1, 1))\n",
              "    (11): ReLU(inplace)\n",
              "    (12): MaxPool2d(kernel_size=3, stride=2, padding=0, dilation=1, ceil_mode=False)\n",
              "  )\n",
              "  (avgpool): AdaptiveAvgPool2d(output_size=(6, 6))\n",
              "  (classifier): Sequential(\n",
              "    (0): Dropout(p=0.5)\n",
              "    (1): Linear(in_features=9216, out_features=4096, bias=True)\n",
              "    (2): ReLU(inplace)\n",
              "    (3): Dropout(p=0.5)\n",
              "    (4): Linear(in_features=4096, out_features=4096, bias=True)\n",
              "    (5): ReLU(inplace)\n",
              "    (6): Linear(in_features=4096, out_features=1000, bias=True)\n",
              "  )\n",
              "), opt_func=functools.partial(<class 'torch.optim.adam.Adam'>, betas=(0.9, 0.99)), loss_func=FlattenedLoss of CrossEntropyLoss(), metrics=[<function error_rate at 0x7f248cebfae8>, <function accuracy at 0x7f248cebf8c8>, <function f1_score_a at 0x7f2482d8e9d8>], true_wd=True, bn_wd=True, wd=0.01, train_bn=True, path=PosixPath('dataset1'), model_dir='models', callback_fns=[functools.partial(<class 'fastai.basic_train.Recorder'>, add_time=True, silent=False)], callbacks=[], layer_groups=[Sequential(\n",
              "  (0): Conv2d(3, 64, kernel_size=(11, 11), stride=(4, 4), padding=(2, 2))\n",
              "  (1): ReLU(inplace)\n",
              "  (2): MaxPool2d(kernel_size=3, stride=2, padding=0, dilation=1, ceil_mode=False)\n",
              "  (3): Conv2d(64, 192, kernel_size=(5, 5), stride=(1, 1), padding=(2, 2))\n",
              "  (4): ReLU(inplace)\n",
              "  (5): MaxPool2d(kernel_size=3, stride=2, padding=0, dilation=1, ceil_mode=False)\n",
              "  (6): Conv2d(192, 384, kernel_size=(3, 3), stride=(1, 1), padding=(1, 1))\n",
              "  (7): ReLU(inplace)\n",
              "  (8): Conv2d(384, 256, kernel_size=(3, 3), stride=(1, 1), padding=(1, 1))\n",
              "  (9): ReLU(inplace)\n",
              "  (10): Conv2d(256, 256, kernel_size=(3, 3), stride=(1, 1), padding=(1, 1))\n",
              "  (11): ReLU(inplace)\n",
              "  (12): MaxPool2d(kernel_size=3, stride=2, padding=0, dilation=1, ceil_mode=False)\n",
              "  (13): AdaptiveAvgPool2d(output_size=(6, 6))\n",
              "  (14): Dropout(p=0.5)\n",
              "  (15): Linear(in_features=9216, out_features=4096, bias=True)\n",
              "  (16): ReLU(inplace)\n",
              "  (17): Dropout(p=0.5)\n",
              "  (18): Linear(in_features=4096, out_features=4096, bias=True)\n",
              "  (19): ReLU(inplace)\n",
              "  (20): Linear(in_features=4096, out_features=1000, bias=True)\n",
              ")], add_time=True, silent=False)"
            ]
          },
          "metadata": {
            "tags": []
          },
          "execution_count": 48
        }
      ]
    },
    {
      "cell_type": "code",
      "metadata": {
        "id": "o4cvo0JrxB-L",
        "colab_type": "code",
        "outputId": "0f81847f-483a-45c2-cd9f-97fe5ccf8c06",
        "colab": {
          "base_uri": "https://localhost:8080/",
          "height": 532
        }
      },
      "source": [
        "from fastai.callbacks import *\n",
        "learn.fit_one_cycle(10,0.0003,callbacks=[SaveModelCallback(learn, every='imrpovement', monitor='f1_score_a')])"
      ],
      "execution_count": 49,
      "outputs": [
        {
          "output_type": "stream",
          "text": [
            "/usr/local/lib/python3.6/dist-packages/fastai/callbacks/tracker.py:83: UserWarning: SaveModel every imrpovement is invalid, falling back to \"improvement\".\n",
            "  warn(f'SaveModel every {self.every} is invalid, falling back to \"improvement\".')\n"
          ],
          "name": "stderr"
        },
        {
          "output_type": "display_data",
          "data": {
            "text/html": [
              "<table border=\"1\" class=\"dataframe\">\n",
              "  <thead>\n",
              "    <tr style=\"text-align: left;\">\n",
              "      <th>epoch</th>\n",
              "      <th>train_loss</th>\n",
              "      <th>valid_loss</th>\n",
              "      <th>error_rate</th>\n",
              "      <th>accuracy</th>\n",
              "      <th>f1_score_a</th>\n",
              "      <th>time</th>\n",
              "    </tr>\n",
              "  </thead>\n",
              "  <tbody>\n",
              "    <tr>\n",
              "      <td>0</td>\n",
              "      <td>0.952172</td>\n",
              "      <td>0.277817</td>\n",
              "      <td>0.114458</td>\n",
              "      <td>0.885542</td>\n",
              "      <td>0.335111</td>\n",
              "      <td>02:25</td>\n",
              "    </tr>\n",
              "    <tr>\n",
              "      <td>1</td>\n",
              "      <td>0.410668</td>\n",
              "      <td>0.238469</td>\n",
              "      <td>0.079819</td>\n",
              "      <td>0.920181</td>\n",
              "      <td>0.335111</td>\n",
              "      <td>02:24</td>\n",
              "    </tr>\n",
              "    <tr>\n",
              "      <td>2</td>\n",
              "      <td>0.302183</td>\n",
              "      <td>0.349434</td>\n",
              "      <td>0.140060</td>\n",
              "      <td>0.859940</td>\n",
              "      <td>0.335111</td>\n",
              "      <td>02:23</td>\n",
              "    </tr>\n",
              "    <tr>\n",
              "      <td>3</td>\n",
              "      <td>0.236370</td>\n",
              "      <td>0.136047</td>\n",
              "      <td>0.046687</td>\n",
              "      <td>0.953313</td>\n",
              "      <td>0.335111</td>\n",
              "      <td>02:23</td>\n",
              "    </tr>\n",
              "    <tr>\n",
              "      <td>4</td>\n",
              "      <td>0.193366</td>\n",
              "      <td>0.105556</td>\n",
              "      <td>0.039157</td>\n",
              "      <td>0.960843</td>\n",
              "      <td>0.335111</td>\n",
              "      <td>02:23</td>\n",
              "    </tr>\n",
              "    <tr>\n",
              "      <td>5</td>\n",
              "      <td>0.183560</td>\n",
              "      <td>0.085501</td>\n",
              "      <td>0.027108</td>\n",
              "      <td>0.972892</td>\n",
              "      <td>0.335111</td>\n",
              "      <td>02:23</td>\n",
              "    </tr>\n",
              "    <tr>\n",
              "      <td>6</td>\n",
              "      <td>0.148739</td>\n",
              "      <td>0.108440</td>\n",
              "      <td>0.037651</td>\n",
              "      <td>0.962349</td>\n",
              "      <td>0.363637</td>\n",
              "      <td>02:23</td>\n",
              "    </tr>\n",
              "    <tr>\n",
              "      <td>7</td>\n",
              "      <td>0.129866</td>\n",
              "      <td>0.083657</td>\n",
              "      <td>0.027108</td>\n",
              "      <td>0.972892</td>\n",
              "      <td>0.520474</td>\n",
              "      <td>02:22</td>\n",
              "    </tr>\n",
              "    <tr>\n",
              "      <td>8</td>\n",
              "      <td>0.112463</td>\n",
              "      <td>0.083579</td>\n",
              "      <td>0.025602</td>\n",
              "      <td>0.974398</td>\n",
              "      <td>0.545464</td>\n",
              "      <td>02:22</td>\n",
              "    </tr>\n",
              "    <tr>\n",
              "      <td>9</td>\n",
              "      <td>0.098452</td>\n",
              "      <td>0.091933</td>\n",
              "      <td>0.030120</td>\n",
              "      <td>0.969880</td>\n",
              "      <td>0.585413</td>\n",
              "      <td>02:23</td>\n",
              "    </tr>\n",
              "  </tbody>\n",
              "</table>"
            ],
            "text/plain": [
              "<IPython.core.display.HTML object>"
            ]
          },
          "metadata": {
            "tags": []
          }
        },
        {
          "output_type": "stream",
          "text": [
            "/usr/local/lib/python3.6/dist-packages/sklearn/metrics/classification.py:1437: UndefinedMetricWarning: F-score is ill-defined and being set to 0.0 in labels with no predicted samples.\n",
            "  'precision', 'predicted', average, warn_for)\n"
          ],
          "name": "stderr"
        },
        {
          "output_type": "stream",
          "text": [
            "Better model found at epoch 0 with f1_score_a value: 0.33511051535606384.\n",
            "Better model found at epoch 6 with f1_score_a value: 0.3636365532875061.\n",
            "Better model found at epoch 7 with f1_score_a value: 0.5204740166664124.\n",
            "Better model found at epoch 8 with f1_score_a value: 0.5454640984535217.\n",
            "Better model found at epoch 9 with f1_score_a value: 0.5854133367538452.\n"
          ],
          "name": "stdout"
        }
      ]
    },
    {
      "cell_type": "code",
      "metadata": {
        "id": "k1_qKKblbHYc",
        "colab_type": "code",
        "colab": {}
      },
      "source": [
        "lossArray=[]\n",
        "\n",
        "lossArray.append(learn.recorder.losses)"
      ],
      "execution_count": 0,
      "outputs": []
    },
    {
      "cell_type": "code",
      "metadata": {
        "id": "KMgzv--qbW6S",
        "colab_type": "code",
        "colab": {}
      },
      "source": [
        "auc=[]\n",
        "auc.append(learn.recorder.metrics)\n"
      ],
      "execution_count": 0,
      "outputs": []
    },
    {
      "cell_type": "code",
      "metadata": {
        "id": "AEqeEATEF94a",
        "colab_type": "code",
        "outputId": "3e4614f0-7aac-40b0-cd93-be474c1d96f8",
        "colab": {
          "base_uri": "https://localhost:8080/",
          "height": 187
        }
      },
      "source": [
        "auc"
      ],
      "execution_count": 52,
      "outputs": [
        {
          "output_type": "execute_result",
          "data": {
            "text/plain": [
              "[[[tensor(0.1145), tensor(0.8855), tensor(0.3351)],\n",
              "  [tensor(0.0798), tensor(0.9202), tensor(0.3351)],\n",
              "  [tensor(0.1401), tensor(0.8599), tensor(0.3351)],\n",
              "  [tensor(0.0467), tensor(0.9533), tensor(0.3351)],\n",
              "  [tensor(0.0392), tensor(0.9608), tensor(0.3351)],\n",
              "  [tensor(0.0271), tensor(0.9729), tensor(0.3351)],\n",
              "  [tensor(0.0377), tensor(0.9623), tensor(0.3636)],\n",
              "  [tensor(0.0271), tensor(0.9729), tensor(0.5205)],\n",
              "  [tensor(0.0256), tensor(0.9744), tensor(0.5455)],\n",
              "  [tensor(0.0301), tensor(0.9699), tensor(0.5854)]]]"
            ]
          },
          "metadata": {
            "tags": []
          },
          "execution_count": 52
        }
      ]
    },
    {
      "cell_type": "code",
      "metadata": {
        "id": "E7VRrmyn-p1r",
        "colab_type": "code",
        "outputId": "8d4f0f2d-ff59-4f45-d696-7c382a1e4401",
        "colab": {
          "base_uri": "https://localhost:8080/",
          "height": 832
        }
      },
      "source": [
        "\n",
        "learn.recorder.plot_losses()\n",
        "learn.recorder.plot(show_momentum=True)\n",
        "learn.lr_find()\n",
        "learn.recorder.plot()"
      ],
      "execution_count": 53,
      "outputs": [
        {
          "output_type": "display_data",
          "data": {
            "text/html": [
              ""
            ],
            "text/plain": [
              "<IPython.core.display.HTML object>"
            ]
          },
          "metadata": {
            "tags": []
          }
        },
        {
          "output_type": "stream",
          "text": [
            "LR Finder is complete, type {learner_name}.recorder.plot() to see the graph.\n"
          ],
          "name": "stdout"
        },
        {
          "output_type": "display_data",
          "data": {
            "image/png": "[encoded data removed]",
            "text/plain": [
              "<Figure size 432x288 with 1 Axes>"
            ]
          },
          "metadata": {
            "tags": []
          }
        },
        {
          "output_type": "display_data",
          "data": {
            "image/png": "[encoded data removed]",
            "text/plain": [
              "<Figure size 432x288 with 1 Axes>"
            ]
          },
          "metadata": {
            "tags": []
          }
        },
        {
          "output_type": "display_data",
          "data": {
            "image/png": "[encoded data removed]",
            "text/plain": [
              "<Figure size 432x288 with 1 Axes>"
            ]
          },
          "metadata": {
            "tags": []
          }
        }
      ]
    },
    {
      "cell_type": "code",
      "metadata": {
        "id": "8aPKquVscEfI",
        "colab_type": "code",
        "outputId": "025b6dfa-8fb1-4f48-efcb-a4832a5ea75d",
        "colab": {
          "base_uri": "https://localhost:8080/",
          "height": 1000
        }
      },
      "source": [
        "learn.load('bestmodel')"
      ],
      "execution_count": 54,
      "outputs": [
        {
          "output_type": "execute_result",
          "data": {
            "text/plain": [
              "Learner(data=ImageDataBunch;\n",
              "\n",
              "Train: LabelList (2657 items)\n",
              "x: ImageList\n",
              "Image (3, 224, 224),Image (3, 224, 224),Image (3, 224, 224),Image (3, 224, 224),Image (3, 224, 224)\n",
              "y: CategoryList\n",
              "NORMAL,NORMAL,NORMAL,NORMAL,NORMAL\n",
              "Path: dataset1;\n",
              "\n",
              "Valid: LabelList (664 items)\n",
              "x: ImageList\n",
              "Image (3, 224, 224),Image (3, 224, 224),Image (3, 224, 224),Image (3, 224, 224),Image (3, 224, 224)\n",
              "y: CategoryList\n",
              "PNEUMONIA,PNEUMONIA,PNEUMONIA,NORMAL,NORMAL\n",
              "Path: dataset1;\n",
              "\n",
              "Test: LabelList (624 items)\n",
              "x: ImageList\n",
              "Image (3, 224, 224),Image (3, 224, 224),Image (3, 224, 224),Image (3, 224, 224),Image (3, 224, 224)\n",
              "y: EmptyLabelList\n",
              ",,,,\n",
              "Path: dataset1, model=AlexNet(\n",
              "  (features): Sequential(\n",
              "    (0): Conv2d(3, 64, kernel_size=(11, 11), stride=(4, 4), padding=(2, 2))\n",
              "    (1): ReLU(inplace)\n",
              "    (2): MaxPool2d(kernel_size=3, stride=2, padding=0, dilation=1, ceil_mode=False)\n",
              "    (3): Conv2d(64, 192, kernel_size=(5, 5), stride=(1, 1), padding=(2, 2))\n",
              "    (4): ReLU(inplace)\n",
              "    (5): MaxPool2d(kernel_size=3, stride=2, padding=0, dilation=1, ceil_mode=False)\n",
              "    (6): Conv2d(192, 384, kernel_size=(3, 3), stride=(1, 1), padding=(1, 1))\n",
              "    (7): ReLU(inplace)\n",
              "    (8): Conv2d(384, 256, kernel_size=(3, 3), stride=(1, 1), padding=(1, 1))\n",
              "    (9): ReLU(inplace)\n",
              "    (10): Conv2d(256, 256, kernel_size=(3, 3), stride=(1, 1), padding=(1, 1))\n",
              "    (11): ReLU(inplace)\n",
              "    (12): MaxPool2d(kernel_size=3, stride=2, padding=0, dilation=1, ceil_mode=False)\n",
              "  )\n",
              "  (avgpool): AdaptiveAvgPool2d(output_size=(6, 6))\n",
              "  (classifier): Sequential(\n",
              "    (0): Dropout(p=0.5)\n",
              "    (1): Linear(in_features=9216, out_features=4096, bias=True)\n",
              "    (2): ReLU(inplace)\n",
              "    (3): Dropout(p=0.5)\n",
              "    (4): Linear(in_features=4096, out_features=4096, bias=True)\n",
              "    (5): ReLU(inplace)\n",
              "    (6): Linear(in_features=4096, out_features=1000, bias=True)\n",
              "  )\n",
              "), opt_func=functools.partial(<class 'torch.optim.adam.Adam'>, betas=(0.9, 0.99)), loss_func=FlattenedLoss of CrossEntropyLoss(), metrics=[<function error_rate at 0x7f248cebfae8>, <function accuracy at 0x7f248cebf8c8>, <function f1_score_a at 0x7f2482d8e9d8>], true_wd=True, bn_wd=True, wd=0.01, train_bn=True, path=PosixPath('dataset1'), model_dir='models', callback_fns=[functools.partial(<class 'fastai.basic_train.Recorder'>, add_time=True, silent=False)], callbacks=[], layer_groups=[Sequential(\n",
              "  (0): Conv2d(3, 64, kernel_size=(11, 11), stride=(4, 4), padding=(2, 2))\n",
              "  (1): ReLU(inplace)\n",
              "  (2): MaxPool2d(kernel_size=3, stride=2, padding=0, dilation=1, ceil_mode=False)\n",
              "  (3): Conv2d(64, 192, kernel_size=(5, 5), stride=(1, 1), padding=(2, 2))\n",
              "  (4): ReLU(inplace)\n",
              "  (5): MaxPool2d(kernel_size=3, stride=2, padding=0, dilation=1, ceil_mode=False)\n",
              "  (6): Conv2d(192, 384, kernel_size=(3, 3), stride=(1, 1), padding=(1, 1))\n",
              "  (7): ReLU(inplace)\n",
              "  (8): Conv2d(384, 256, kernel_size=(3, 3), stride=(1, 1), padding=(1, 1))\n",
              "  (9): ReLU(inplace)\n",
              "  (10): Conv2d(256, 256, kernel_size=(3, 3), stride=(1, 1), padding=(1, 1))\n",
              "  (11): ReLU(inplace)\n",
              "  (12): MaxPool2d(kernel_size=3, stride=2, padding=0, dilation=1, ceil_mode=False)\n",
              "  (13): AdaptiveAvgPool2d(output_size=(6, 6))\n",
              "  (14): Dropout(p=0.5)\n",
              "  (15): Linear(in_features=9216, out_features=4096, bias=True)\n",
              "  (16): ReLU(inplace)\n",
              "  (17): Dropout(p=0.5)\n",
              "  (18): Linear(in_features=4096, out_features=4096, bias=True)\n",
              "  (19): ReLU(inplace)\n",
              "  (20): Linear(in_features=4096, out_features=1000, bias=True)\n",
              ")], add_time=True, silent=None)"
            ]
          },
          "metadata": {
            "tags": []
          },
          "execution_count": 54
        }
      ]
    },
    {
      "cell_type": "code",
      "metadata": {
        "id": "xC2VyPJf2klg",
        "colab_type": "code",
        "outputId": "181d5fd8-37e4-458a-a529-33790e05be05",
        "colab": {
          "base_uri": "https://localhost:8080/",
          "height": 309
        }
      },
      "source": [
        "learn.unfreeze()\n",
        "learn.fit_one_cycle(5,callbacks=[SaveModelCallback(learn, every='imrpovement', monitor='f1_score_a')])"
      ],
      "execution_count": 55,
      "outputs": [
        {
          "output_type": "stream",
          "text": [
            "/usr/local/lib/python3.6/dist-packages/fastai/callbacks/tracker.py:83: UserWarning: SaveModel every imrpovement is invalid, falling back to \"improvement\".\n",
            "  warn(f'SaveModel every {self.every} is invalid, falling back to \"improvement\".')\n"
          ],
          "name": "stderr"
        },
        {
          "output_type": "display_data",
          "data": {
            "text/html": [
              "<table border=\"1\" class=\"dataframe\">\n",
              "  <thead>\n",
              "    <tr style=\"text-align: left;\">\n",
              "      <th>epoch</th>\n",
              "      <th>train_loss</th>\n",
              "      <th>valid_loss</th>\n",
              "      <th>error_rate</th>\n",
              "      <th>accuracy</th>\n",
              "      <th>f1_score_a</th>\n",
              "      <th>time</th>\n",
              "    </tr>\n",
              "  </thead>\n",
              "  <tbody>\n",
              "    <tr>\n",
              "      <td>0</td>\n",
              "      <td>0.525876</td>\n",
              "      <td>1.103357</td>\n",
              "      <td>0.390060</td>\n",
              "      <td>0.609940</td>\n",
              "      <td>0.335111</td>\n",
              "      <td>02:23</td>\n",
              "    </tr>\n",
              "    <tr>\n",
              "      <td>1</td>\n",
              "      <td>0.680692</td>\n",
              "      <td>0.693573</td>\n",
              "      <td>0.490964</td>\n",
              "      <td>0.509036</td>\n",
              "      <td>0.335111</td>\n",
              "      <td>02:23</td>\n",
              "    </tr>\n",
              "    <tr>\n",
              "      <td>2</td>\n",
              "      <td>0.692422</td>\n",
              "      <td>0.693882</td>\n",
              "      <td>0.490964</td>\n",
              "      <td>0.509036</td>\n",
              "      <td>0.335111</td>\n",
              "      <td>02:23</td>\n",
              "    </tr>\n",
              "    <tr>\n",
              "      <td>3</td>\n",
              "      <td>0.691874</td>\n",
              "      <td>0.702686</td>\n",
              "      <td>0.490964</td>\n",
              "      <td>0.509036</td>\n",
              "      <td>0.335111</td>\n",
              "      <td>02:23</td>\n",
              "    </tr>\n",
              "    <tr>\n",
              "      <td>4</td>\n",
              "      <td>0.692850</td>\n",
              "      <td>0.693225</td>\n",
              "      <td>0.490964</td>\n",
              "      <td>0.509036</td>\n",
              "      <td>0.335111</td>\n",
              "      <td>02:23</td>\n",
              "    </tr>\n",
              "  </tbody>\n",
              "</table>"
            ],
            "text/plain": [
              "<IPython.core.display.HTML object>"
            ]
          },
          "metadata": {
            "tags": []
          }
        },
        {
          "output_type": "stream",
          "text": [
            "/usr/local/lib/python3.6/dist-packages/sklearn/metrics/classification.py:1437: UndefinedMetricWarning: F-score is ill-defined and being set to 0.0 in labels with no predicted samples.\n",
            "  'precision', 'predicted', average, warn_for)\n"
          ],
          "name": "stderr"
        },
        {
          "output_type": "stream",
          "text": [
            "Better model found at epoch 0 with f1_score_a value: 0.33511051535606384.\n"
          ],
          "name": "stdout"
        }
      ]
    },
    {
      "cell_type": "code",
      "metadata": {
        "id": "Y9KjC1d4GGi5",
        "colab_type": "code",
        "outputId": "4defea56-a5a3-45d4-99ce-9c67cd59720d",
        "colab": {
          "base_uri": "https://localhost:8080/",
          "height": 311
        }
      },
      "source": [
        "\n",
        "learn.load('bestmodel')\n",
        "interp = ClassificationInterpretation.from_learner(learn)\n",
        "interp.plot_confusion_matrix()"
      ],
      "execution_count": 0,
      "outputs": [
        {
          "output_type": "display_data",
          "data": {
            "image/png": "[encoded data removed]",
            "text/plain": [
              "<Figure size 432x288 with 1 Axes>"
            ]
          },
          "metadata": {
            "tags": []
          }
        }
      ]
    },
    {
      "cell_type": "code",
      "metadata": {
        "id": "IVlaieLv2Z3y",
        "colab_type": "code",
        "colab": {}
      },
      "source": [
        "# learn.load('Res')"
      ],
      "execution_count": 0,
      "outputs": []
    },
    {
      "cell_type": "code",
      "metadata": {
        "id": "9CuP8nOk2djq",
        "colab_type": "code",
        "colab": {}
      },
      "source": [
        "# learn.lr_find()\n",
        "# # learn.recorder.plot()"
      ],
      "execution_count": 0,
      "outputs": []
    },
    {
      "cell_type": "code",
      "metadata": {
        "id": "ckcUFTzR20Tf",
        "colab_type": "code",
        "colab": {}
      },
      "source": [
        "# learn.fit_one_cycle(20,max_lr=(1e-07),wd=0.25)"
      ],
      "execution_count": 0,
      "outputs": []
    },
    {
      "cell_type": "code",
      "metadata": {
        "id": "wJ9g8LJ4FE7F",
        "colab_type": "code",
        "colab": {}
      },
      "source": [
        "# interp = ClassificationInterpretation.from_learner(learn)\n",
        "# interp.plot_confusion_matrix()"
      ],
      "execution_count": 0,
      "outputs": []
    },
    {
      "cell_type": "code",
      "metadata": {
        "id": "IgCu_etdCpaV",
        "colab_type": "code",
        "colab": {}
      },
      "source": [
        "# learn.lr_find()"
      ],
      "execution_count": 0,
      "outputs": []
    },
    {
      "cell_type": "code",
      "metadata": {
        "id": "cnnPIgNlCvhP",
        "colab_type": "code",
        "colab": {}
      },
      "source": [
        "# learn.recorder.plot()"
      ],
      "execution_count": 0,
      "outputs": []
    },
    {
      "cell_type": "code",
      "metadata": {
        "id": "RqOD5wcgH9Mg",
        "colab_type": "code",
        "outputId": "b27576c3-89f7-45db-b055-04e051d4ec1d",
        "colab": {
          "base_uri": "https://localhost:8080/",
          "height": 51
        }
      },
      "source": [
        "conf=interp.confusion_matrix()\n",
        "TrueNagitive=conf[0][0]\n",
        "FalseNegative=conf[0][1]\n",
        "TruePositive=conf[1][1]\n",
        "FalsePositive=conf[1][0]\n",
        "recal=TruePositive/(TruePositive+FalseNegative)\n",
        "precision=TruePositive/(TruePositive+FalsePositive)\n",
        "print(\"Precision of Model =\",precision,\"Recall of Model \", recal)\n",
        "f1=2*((precision*recal)/(precision+recal))\n",
        "print('F1 Score of Model =',f1)"
      ],
      "execution_count": 57,
      "outputs": [
        {
          "output_type": "stream",
          "text": [
            "Precision of Model = 0.23964497041420119 Recall of Model  0.9759036144578314\n",
            "F1 Score of Model = 0.38479809976247026\n"
          ],
          "name": "stdout"
        }
      ]
    },
    {
      "cell_type": "code",
      "metadata": {
        "id": "nNgBUAFaIPZG",
        "colab_type": "code",
        "colab": {}
      },
      "source": [
        ""
      ],
      "execution_count": 0,
      "outputs": []
    }
  ]
}